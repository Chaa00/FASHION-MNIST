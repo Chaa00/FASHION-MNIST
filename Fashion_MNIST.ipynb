{
  "nbformat": 4,
  "nbformat_minor": 0,
  "metadata": {
    "colab": {
      "name": "Fashion MNIST.ipynb",
      "provenance": [],
      "authorship_tag": "ABX9TyMv77nWUMlHcnl7k8MYtUfC",
      "include_colab_link": true
    },
    "kernelspec": {
      "name": "python3",
      "display_name": "Python 3"
    }
  },
  "cells": [
    {
      "cell_type": "markdown",
      "metadata": {
        "id": "view-in-github",
        "colab_type": "text"
      },
      "source": [
        "<a href=\"https://colab.research.google.com/github/Chaa00/FASHION-MNIST/blob/main/Fashion_MNIST.ipynb\" target=\"_parent\"><img src=\"https://colab.research.google.com/assets/colab-badge.svg\" alt=\"Open In Colab\"/></a>"
      ]
    },
    {
      "cell_type": "code",
      "metadata": {
        "id": "jQwoeE9V7gw5"
      },
      "source": [
        "import matplotlib.pyplot as plt \n",
        "import tensorflow as tf \n",
        "import numpy as np "
      ],
      "execution_count": 1,
      "outputs": []
    },
    {
      "cell_type": "code",
      "metadata": {
        "id": "Ic-XBA4h70L4",
        "outputId": "7530825f-fa90-40e2-9665-bf91bd290900",
        "colab": {
          "base_uri": "https://localhost:8080/",
          "height": 185
        }
      },
      "source": [
        "#fashion MNIST \n",
        "\n",
        "fashion_mnist=tf.keras.datasets.fashion_mnist\n",
        "(images, targets), (images_test, targets_test)=fashion_mnist.load_data()\n",
        "images=images[:10000]\n",
        "targets=targets[:10000]\n",
        "print(images.shape)\n",
        "print(targets.shape)"
      ],
      "execution_count": 2,
      "outputs": [
        {
          "output_type": "stream",
          "text": [
            "Downloading data from https://storage.googleapis.com/tensorflow/tf-keras-datasets/train-labels-idx1-ubyte.gz\n",
            "32768/29515 [=================================] - 0s 0us/step\n",
            "Downloading data from https://storage.googleapis.com/tensorflow/tf-keras-datasets/train-images-idx3-ubyte.gz\n",
            "26427392/26421880 [==============================] - 1s 0us/step\n",
            "Downloading data from https://storage.googleapis.com/tensorflow/tf-keras-datasets/t10k-labels-idx1-ubyte.gz\n",
            "8192/5148 [===============================================] - 0s 0us/step\n",
            "Downloading data from https://storage.googleapis.com/tensorflow/tf-keras-datasets/t10k-images-idx3-ubyte.gz\n",
            "4423680/4422102 [==============================] - 0s 0us/step\n",
            "(10000, 28, 28)\n",
            "(10000,)\n"
          ],
          "name": "stdout"
        }
      ]
    },
    {
      "cell_type": "code",
      "metadata": {
        "id": "uwoOGUqS72-O",
        "outputId": "6bb99807-93a2-4f9a-e8bb-192c5f2d0813",
        "colab": {
          "base_uri": "https://localhost:8080/",
          "height": 281
        }
      },
      "source": [
        "targets_names=[\"T-shirt/top\",\"Trouser\",\"pulllover\",\"dress\",\"coat\",\"sandal\",\"shirt\",\"sneaker\",\"bag\",\"ankle boot\"]\n",
        "plt.imshow(images[10],cmap=\"binary\")\n",
        "plt.title(targets_names[targets[10]])\n",
        "plt.show()"
      ],
      "execution_count": 3,
      "outputs": [
        {
          "output_type": "display_data",
          "data": {
            "image/png": "[encoded data removed]",
            "text/plain": [
              "<Figure size 432x288 with 1 Axes>"
            ]
          },
          "metadata": {
            "tags": [],
            "needs_background": "light"
          }
        }
      ]
    },
    {
      "cell_type": "code",
      "metadata": {
        "id": "VeAGRjk675rX",
        "outputId": "17570d79-4309-4666-c441-8f4a4535aa6e",
        "colab": {
          "base_uri": "https://localhost:8080/",
          "height": 67
        }
      },
      "source": [
        "print(\"first line of our image\",images[11][0])\n",
        "print (\"associated target\",targets[11])"
      ],
      "execution_count": 4,
      "outputs": [
        {
          "output_type": "stream",
          "text": [
            "first line of our image [  0   0   0   0   0   0   0   0   0   0   0   0   0   0  39 111  93  85\n",
            "  27   0   0   0   0   0   1   0   0   0]\n",
            "associated target 9\n"
          ],
          "name": "stdout"
        }
      ]
    },
    {
      "cell_type": "code",
      "metadata": {
        "id": "abfT_auD77Lv",
        "outputId": "2cc3af8c-e893-43f7-a8eb-2b65aa36f479",
        "colab": {
          "base_uri": "https://localhost:8080/",
          "height": 50
        }
      },
      "source": [
        "#create the model \n",
        "#flatten the image , remplacer l'image en un seul vecteur \n",
        "model=tf.keras.models.Sequential()\n",
        "model.add(tf.keras.layers.Flatten(input_shape=[28,28]))\n",
        "print(\"shape of the image\",images[0:1].shape)\n",
        "model_output=model.predict(images[0:1])\n",
        "print(\"shape of the image after flatten\" , model_output.shape) #ce n'est plus une matrice ( ca devient un vecteur )"
      ],
      "execution_count": 5,
      "outputs": [
        {
          "output_type": "stream",
          "text": [
            "shape of the image (1, 28, 28)\n",
            "shape of the image after flatten (1, 784)\n"
          ],
          "name": "stdout"
        }
      ]
    },
    {
      "cell_type": "code",
      "metadata": {
        "id": "A7KimyFT8AHF",
        "outputId": "de7fa451-20f7-4a4f-f4f5-6ecb048e0b86",
        "colab": {
          "base_uri": "https://localhost:8080/",
          "height": 34
        }
      },
      "source": [
        "#add layers \n",
        "model=tf.keras.models.Sequential()\n",
        "model.add(tf.keras.layers.Flatten(input_shape=[28,28]))\n",
        "model.add(tf.keras.layers.Dense(256,activation=\"relu\")) #first layer (Dense= layer of 256 neurone )\n",
        "model.add(tf.keras.layers.Dense(128, activation=\"relu\")) #second layer\n",
        "model.add(tf.keras.layers.Dense(10,activation=\"softmax\")) #output layer \n",
        "model_output=model.predict(images[0:1])\n",
        "print(model_output,targets[0:1])"
      ],
      "execution_count": 6,
      "outputs": [
        {
          "output_type": "stream",
          "text": [
            "[[0. 1. 0. 0. 0. 0. 0. 0. 0. 0.]] [9]\n"
          ],
          "name": "stdout"
        }
      ]
    },
    {
      "cell_type": "code",
      "metadata": {
        "id": "_tPW2CU88DlG",
        "outputId": "738f91d6-a60a-41b6-8ca0-d7010c2b2977",
        "colab": {
          "base_uri": "https://localhost:8080/",
          "height": 286
        }
      },
      "source": [
        "model.summary()"
      ],
      "execution_count": 7,
      "outputs": [
        {
          "output_type": "stream",
          "text": [
            "Model: \"sequential_1\"\n",
            "_________________________________________________________________\n",
            "Layer (type)                 Output Shape              Param #   \n",
            "=================================================================\n",
            "flatten_1 (Flatten)          (None, 784)               0         \n",
            "_________________________________________________________________\n",
            "dense (Dense)                (None, 256)               200960    \n",
            "_________________________________________________________________\n",
            "dense_1 (Dense)              (None, 128)               32896     \n",
            "_________________________________________________________________\n",
            "dense_2 (Dense)              (None, 10)                1290      \n",
            "=================================================================\n",
            "Total params: 235,146\n",
            "Trainable params: 235,146\n",
            "Non-trainable params: 0\n",
            "_________________________________________________________________\n"
          ],
          "name": "stdout"
        }
      ]
    },
    {
      "cell_type": "code",
      "metadata": {
        "id": "EfeNs4aN8Lin"
      },
      "source": [
        "#compile the model \n",
        "model.compile( optimizer=\"adam\",loss=\"sparse_categorical_crossentropy\",\n",
        "             metrics=[\"accuracy\"])"
      ],
      "execution_count": 8,
      "outputs": []
    },
    {
      "cell_type": "code",
      "metadata": {
        "id": "VAvIFbPM8M0H",
        "outputId": "2ff97bfd-bdf8-4cfb-e815-7eb26da61887",
        "colab": {
          "base_uri": "https://localhost:8080/",
          "height": 353
        }
      },
      "source": [
        "#train the model \n",
        "history=model.fit(images, targets , epochs=10)"
      ],
      "execution_count": 9,
      "outputs": [
        {
          "output_type": "stream",
          "text": [
            "Epoch 1/10\n",
            "313/313 [==============================] - 1s 3ms/step - loss: 9.2292 - accuracy: 0.6876\n",
            "Epoch 2/10\n",
            "313/313 [==============================] - 1s 3ms/step - loss: 1.3396 - accuracy: 0.7608\n",
            "Epoch 3/10\n",
            "313/313 [==============================] - 1s 3ms/step - loss: 0.8899 - accuracy: 0.7776\n",
            "Epoch 4/10\n",
            "313/313 [==============================] - 1s 3ms/step - loss: 0.6501 - accuracy: 0.8029\n",
            "Epoch 5/10\n",
            "313/313 [==============================] - 1s 3ms/step - loss: 0.5505 - accuracy: 0.8217\n",
            "Epoch 6/10\n",
            "313/313 [==============================] - 1s 3ms/step - loss: 0.5162 - accuracy: 0.8274\n",
            "Epoch 7/10\n",
            "313/313 [==============================] - 1s 3ms/step - loss: 0.4788 - accuracy: 0.8379\n",
            "Epoch 8/10\n",
            "313/313 [==============================] - 1s 3ms/step - loss: 0.4391 - accuracy: 0.8456\n",
            "Epoch 9/10\n",
            "313/313 [==============================] - 1s 3ms/step - loss: 0.4689 - accuracy: 0.8397\n",
            "Epoch 10/10\n",
            "313/313 [==============================] - 1s 3ms/step - loss: 0.4318 - accuracy: 0.8515\n"
          ],
          "name": "stdout"
        }
      ]
    },
    {
      "cell_type": "code",
      "metadata": {
        "id": "Cu3ahReC8V1u",
        "outputId": "f5c36862-b6df-4925-f916-681134354b3e",
        "colab": {
          "base_uri": "https://localhost:8080/",
          "height": 34
        }
      },
      "source": [
        "loss_value,acc_value=model.evaluate(images_test,targets_test)"
      ],
      "execution_count": 10,
      "outputs": [
        {
          "output_type": "stream",
          "text": [
            "313/313 [==============================] - 0s 1ms/step - loss: 0.6581 - accuracy: 0.8081\n"
          ],
          "name": "stdout"
        }
      ]
    },
    {
      "cell_type": "code",
      "metadata": {
        "id": "YKeev-HW8ZDH",
        "outputId": "a8df5de7-d9b6-41a3-f499-882d1a62eb00",
        "colab": {
          "base_uri": "https://localhost:8080/",
          "height": 265
        }
      },
      "source": [
        "loss_curve=history.history[\"loss\"]\n",
        "plt.plot(loss_curve)\n",
        "plt.show()"
      ],
      "execution_count": 11,
      "outputs": [
        {
          "output_type": "display_data",
          "data": {
            "image/png": "[encoded data removed]",
            "text/plain": [
              "<Figure size 432x288 with 1 Axes>"
            ]
          },
          "metadata": {
            "tags": [],
            "needs_background": "light"
          }
        }
      ]
    },
    {
      "cell_type": "code",
      "metadata": {
        "id": "iA2yN7wQ8cIn",
        "outputId": "5f988a30-3094-4d48-d73d-dc2108aa318b",
        "colab": {
          "base_uri": "https://localhost:8080/",
          "height": 265
        }
      },
      "source": [
        "acc_curve=history.history[\"accuracy\"]\n",
        "plt.plot(acc_curve)\n",
        "plt.show()"
      ],
      "execution_count": 12,
      "outputs": [
        {
          "output_type": "display_data",
          "data": {
            "image/png": "[encoded data removed]",
            "text/plain": [
              "<Figure size 432x288 with 1 Axes>"
            ]
          },
          "metadata": {
            "tags": [],
            "needs_background": "light"
          }
        }
      ]
    },
    {
      "cell_type": "code",
      "metadata": {
        "id": "L1Qj5h2j8ghn",
        "outputId": "4809ee83-ebf1-4a3e-ef55-5cc77d4e9991",
        "colab": {
          "base_uri": "https://localhost:8080/",
          "height": 154
        }
      },
      "source": [
        "model.save('fashion_mnist')\n"
      ],
      "execution_count": 13,
      "outputs": [
        {
          "output_type": "stream",
          "text": [
            "WARNING:tensorflow:From /usr/local/lib/python3.6/dist-packages/tensorflow/python/training/tracking/tracking.py:111: Model.state_updates (from tensorflow.python.keras.engine.training) is deprecated and will be removed in a future version.\n",
            "Instructions for updating:\n",
            "This property should not be used in TensorFlow 2.0, as updates are applied automatically.\n",
            "WARNING:tensorflow:From /usr/local/lib/python3.6/dist-packages/tensorflow/python/training/tracking/tracking.py:111: Layer.updates (from tensorflow.python.keras.engine.base_layer) is deprecated and will be removed in a future version.\n",
            "Instructions for updating:\n",
            "This property should not be used in TensorFlow 2.0, as updates are applied automatically.\n",
            "INFO:tensorflow:Assets written to: fashion_mnist/assets\n"
          ],
          "name": "stdout"
        }
      ]
    },
    {
      "cell_type": "code",
      "metadata": {
        "id": "yF-ZOxL18lpf"
      },
      "source": [
        "new_model=tf.keras.models.load_model('fashion_mnist')"
      ],
      "execution_count": 14,
      "outputs": []
    },
    {
      "cell_type": "code",
      "metadata": {
        "id": "0x81m10X8nAP",
        "outputId": "081913fb-d932-4f67-b87f-4c34030ad5e0",
        "colab": {
          "base_uri": "https://localhost:8080/",
          "height": 235
        }
      },
      "source": [
        "predictions=new_model.predict(images_test)\n",
        "print(predictions)"
      ],
      "execution_count": 15,
      "outputs": [
        {
          "output_type": "stream",
          "text": [
            "[[4.2285775e-25 1.8686630e-13 9.7627906e-16 ... 5.4248059e-03\n",
            "  2.4646551e-17 9.9456257e-01]\n",
            " [8.5305079e-09 2.9193013e-22 9.8451668e-01 ... 3.7410633e-34\n",
            "  3.9546701e-14 2.2268745e-24]\n",
            " [2.9009831e-12 9.9999988e-01 2.6776978e-10 ... 3.7269654e-29\n",
            "  6.4300627e-16 8.7232515e-24]\n",
            " ...\n",
            " [1.1950704e-06 5.8525024e-19 8.8874477e-11 ... 1.3841352e-12\n",
            "  9.9999881e-01 7.7666586e-26]\n",
            " [6.4399283e-13 9.9999988e-01 9.1303347e-09 ... 1.7974778e-29\n",
            "  1.9887906e-15 8.0263402e-24]\n",
            " [1.3505001e-05 9.2941420e-03 4.1386276e-03 ... 2.2510685e-01\n",
            "  2.7702104e-02 5.2148843e-01]]\n"
          ],
          "name": "stdout"
        }
      ]
    },
    {
      "cell_type": "code",
      "metadata": {
        "id": "Lbis_FuF8ryP",
        "outputId": "8aa0e26f-1cf1-44f3-ce49-ca6ba9a72a9e",
        "colab": {
          "base_uri": "https://localhost:8080/",
          "height": 34
        }
      },
      "source": [
        "print(np.argmax(predictions[10]))"
      ],
      "execution_count": 16,
      "outputs": [
        {
          "output_type": "stream",
          "text": [
            "4\n"
          ],
          "name": "stdout"
        }
      ]
    },
    {
      "cell_type": "code",
      "metadata": {
        "id": "3Q2fS2Th8tw3",
        "outputId": "649ce3c2-61ab-4f6c-9c2d-f9bc028ccc6b",
        "colab": {
          "base_uri": "https://localhost:8080/",
          "height": 265
        }
      },
      "source": [
        "plt.imshow(images_test[10])\n",
        "plt.show()"
      ],
      "execution_count": 17,
      "outputs": [
        {
          "output_type": "display_data",
          "data": {
            "image/png": "[encoded data removed]",
            "text/plain": [
              "<Figure size 432x288 with 1 Axes>"
            ]
          },
          "metadata": {
            "tags": [],
            "needs_background": "light"
          }
        }
      ]
    }
  ]
}